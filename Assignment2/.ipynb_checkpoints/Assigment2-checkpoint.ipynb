{
 "cells": [
  {
   "cell_type": "code",
   "execution_count": 1,
   "metadata": {
    "scrolled": true
   },
   "outputs": [
    {
     "name": "stderr",
     "output_type": "stream",
     "text": [
      "\n",
      "Bad key text.latex.unicode in file /Users/teseo/conda/envs/base2/lib/python3.6/site-packages/matplotlib/mpl-data/stylelib/_classic_test.mplstyle, line 112 ('text.latex.unicode : False # use \"ucs\" and \"inputenc\" LaTeX packages for handling')\n",
      "You probably need to get an updated matplotlibrc file from\n",
      "https://github.com/matplotlib/matplotlib/blob/v3.3.2/matplotlibrc.template\n",
      "or from the matplotlib source distribution\n",
      "\n",
      "Bad key savefig.frameon in file /Users/teseo/conda/envs/base2/lib/python3.6/site-packages/matplotlib/mpl-data/stylelib/_classic_test.mplstyle, line 423 ('savefig.frameon : True')\n",
      "You probably need to get an updated matplotlibrc file from\n",
      "https://github.com/matplotlib/matplotlib/blob/v3.3.2/matplotlibrc.template\n",
      "or from the matplotlib source distribution\n",
      "\n",
      "Bad key pgf.debug in file /Users/teseo/conda/envs/base2/lib/python3.6/site-packages/matplotlib/mpl-data/stylelib/_classic_test.mplstyle, line 444 ('pgf.debug           : False')\n",
      "You probably need to get an updated matplotlibrc file from\n",
      "https://github.com/matplotlib/matplotlib/blob/v3.3.2/matplotlibrc.template\n",
      "or from the matplotlib source distribution\n",
      "\n",
      "Bad key verbose.level in file /Users/teseo/conda/envs/base2/lib/python3.6/site-packages/matplotlib/mpl-data/stylelib/_classic_test.mplstyle, line 475 ('verbose.level  : silent      # one of silent, helpful, debug, debug-annoying')\n",
      "You probably need to get an updated matplotlibrc file from\n",
      "https://github.com/matplotlib/matplotlib/blob/v3.3.2/matplotlibrc.template\n",
      "or from the matplotlib source distribution\n",
      "\n",
      "Bad key verbose.fileo in file /Users/teseo/conda/envs/base2/lib/python3.6/site-packages/matplotlib/mpl-data/stylelib/_classic_test.mplstyle, line 476 ('verbose.fileo  : sys.stdout  # a log filename, sys.stdout or sys.stderr')\n",
      "You probably need to get an updated matplotlibrc file from\n",
      "https://github.com/matplotlib/matplotlib/blob/v3.3.2/matplotlibrc.template\n",
      "or from the matplotlib source distribution\n",
      "In /Users/teseo/conda/envs/base2/lib/python3.6/site-packages/matplotlib/mpl-data/stylelib/_classic_test.mplstyle: \n",
      "The text.latex.preview rcparam was deprecated in Matplotlib 3.3 and will be removed two minor releases later.\n",
      "In /Users/teseo/conda/envs/base2/lib/python3.6/site-packages/matplotlib/mpl-data/stylelib/_classic_test.mplstyle: \n",
      "The mathtext.fallback_to_cm rcparam was deprecated in Matplotlib 3.3 and will be removed two minor releases later.\n",
      "In /Users/teseo/conda/envs/base2/lib/python3.6/site-packages/matplotlib/mpl-data/stylelib/_classic_test.mplstyle: Support for setting the 'mathtext.fallback_to_cm' rcParam is deprecated since 3.3 and will be removed two minor releases later; use 'mathtext.fallback : 'cm' instead.\n",
      "In /Users/teseo/conda/envs/base2/lib/python3.6/site-packages/matplotlib/mpl-data/stylelib/_classic_test.mplstyle: \n",
      "The validate_bool_maybe_none function was deprecated in Matplotlib 3.3 and will be removed two minor releases later.\n",
      "In /Users/teseo/conda/envs/base2/lib/python3.6/site-packages/matplotlib/mpl-data/stylelib/_classic_test.mplstyle: \n",
      "The savefig.jpeg_quality rcparam was deprecated in Matplotlib 3.3 and will be removed two minor releases later.\n",
      "In /Users/teseo/conda/envs/base2/lib/python3.6/site-packages/matplotlib/mpl-data/stylelib/_classic_test.mplstyle: \n",
      "The keymap.all_axes rcparam was deprecated in Matplotlib 3.3 and will be removed two minor releases later.\n",
      "In /Users/teseo/conda/envs/base2/lib/python3.6/site-packages/matplotlib/mpl-data/stylelib/_classic_test.mplstyle: \n",
      "The animation.avconv_path rcparam was deprecated in Matplotlib 3.3 and will be removed two minor releases later.\n",
      "In /Users/teseo/conda/envs/base2/lib/python3.6/site-packages/matplotlib/mpl-data/stylelib/_classic_test.mplstyle: \n",
      "The animation.avconv_args rcparam was deprecated in Matplotlib 3.3 and will be removed two minor releases later.\n"
     ]
    }
   ],
   "source": [
    "import numpy as np\n",
    "import igl\n",
    "import meshplot as mp"
   ]
  },
  {
   "cell_type": "code",
   "execution_count": 2,
   "metadata": {
    "scrolled": true
   },
   "outputs": [],
   "source": [
    "# Utility function to generate a tet grid\n",
    "# n is a 3-tuple with the number of cell in every direction\n",
    "# mmin/mmax are the grid bounding box corners\n",
    "\n",
    "def tet_grid(n, mmin, mmax):\n",
    "    nx = n[0]\n",
    "    ny = n[1]\n",
    "    nz = n[2]\n",
    "    \n",
    "    delta = mmax-mmin\n",
    "    \n",
    "    deltax = delta[0]/(nx-1)\n",
    "    deltay = delta[1]/(ny-1)\n",
    "    deltaz = delta[2]/(nz-1)\n",
    "    \n",
    "    T = np.zeros(((nx-1)*(ny-1)*(nz-1)*6, 4), dtype=np.int64)\n",
    "    V = np.zeros((nx*ny*nz, 3))\n",
    "\n",
    "    mapping = -np.ones((nx, ny, nz), dtype=np.int64)\n",
    "\n",
    "\n",
    "    index = 0\n",
    "    for i in range(nx):\n",
    "        for j in range(ny):\n",
    "            for k in range(nz):\n",
    "                mapping[i, j, k] = index\n",
    "                V[index, :] = [i*deltax, j*deltay, k*deltaz]\n",
    "                index += 1\n",
    "    assert(index == V.shape[0])\n",
    "    \n",
    "    tets = np.array([\n",
    "        [0,1,3,4],\n",
    "        [5,2,6,7],\n",
    "        [4,1,5,3],\n",
    "        [4,3,7,5],\n",
    "        [3,1,5,2],\n",
    "        [2,3,7,5]\n",
    "    ])\n",
    "    \n",
    "    index = 0\n",
    "    for i in range(nx-1):\n",
    "        for j in range(ny-1):\n",
    "            for k in range(nz-1):\n",
    "                indices = [\n",
    "                    (i,   j,   k),\n",
    "                    (i+1, j,   k),\n",
    "                    (i+1, j+1, k),\n",
    "                    (i,   j+1, k),\n",
    "\n",
    "                    (i,   j,   k+1),\n",
    "                    (i+1, j,   k+1),\n",
    "                    (i+1, j+1, k+1),\n",
    "                    (i,   j+1, k+1),\n",
    "                ]\n",
    "                \n",
    "                for t in range(tets.shape[0]):\n",
    "                    tmp = [mapping[indices[ii]] for ii in tets[t, :]]\n",
    "                    T[index, :]=tmp\n",
    "                    index += 1\n",
    "                    \n",
    "    assert(index == T.shape[0])\n",
    "    \n",
    "    V += mmin\n",
    "    return V, T"
   ]
  },
  {
   "cell_type": "markdown",
   "metadata": {},
   "source": [
    "# Reading point cloud"
   ]
  },
  {
   "cell_type": "code",
   "execution_count": 6,
   "metadata": {},
   "outputs": [
    {
     "data": {
      "application/vnd.jupyter.widget-view+json": {
       "model_id": "4627a64f33b842f0973cbc3dbc8e8923",
       "version_major": 2,
       "version_minor": 0
      },
      "text/plain": [
       "Renderer(camera=PerspectiveCamera(children=(DirectionalLight(color='white', intensity=0.6, position=(1.1287999…"
      ]
     },
     "metadata": {},
     "output_type": "display_data"
    },
    {
     "data": {
      "text/plain": [
       "<meshplot.Viewer.Viewer at 0x7f8f1e0ab320>"
      ]
     },
     "execution_count": 6,
     "metadata": {},
     "output_type": "execute_result"
    }
   ],
   "source": [
    "pi, v = igl.read_triangle_mesh(\"data/luigi.off\")\n",
    "\n",
    "\n",
    "pi /= 10\n",
    "ni = igl.per_vertex_normals(pi, v)\n",
    "mp.plot(pi, shading={\"point_size\": 0.5})"
   ]
  },
  {
   "cell_type": "code",
   "execution_count": 11,
   "metadata": {},
   "outputs": [
    {
     "data": {
      "text/plain": [
       "(3, 3)"
      ]
     },
     "execution_count": 11,
     "metadata": {},
     "output_type": "execute_result"
    }
   ],
   "source": [
    "Y=pi-np.mean(pi, axis=0)\n",
    "S=Y.T@Y\n",
    "\n"
   ]
  },
  {
   "cell_type": "markdown",
   "metadata": {},
   "source": [
    "# MLS function"
   ]
  },
  {
   "cell_type": "code",
   "execution_count": null,
   "metadata": {
    "scrolled": true
   },
   "outputs": [],
   "source": [
    "# Parameters\n",
    "bbox_min = np.array([-1., -1., -1.])\n",
    "bbox_max = np.array([1., 1., 1.])\n",
    "bbox_diag = np.linalg.norm(bbox_max - bbox_min)\n",
    "\n",
    "n = 10"
   ]
  },
  {
   "cell_type": "code",
   "execution_count": null,
   "metadata": {
    "scrolled": true
   },
   "outputs": [],
   "source": [
    "# Generate grid n x n x n\n",
    "\n",
    "x, T = tet_grid((n, n, n), bbox_min - 0.05 * bbox_diag, bbox_max + 0.05 * bbox_diag)\n",
    "\n",
    "#Compute implicit sphere function\n",
    "center = np.array([0., 0., 0.])\n",
    "radius = 1\n",
    "fx = np.linalg.norm(x-center, axis=1) - radius"
   ]
  },
  {
   "cell_type": "code",
   "execution_count": null,
   "metadata": {
    "scrolled": false
   },
   "outputs": [],
   "source": [
    "# Treshold fx to visualize inside outside\n",
    "\n",
    "ind = np.zeros_like(fx)\n",
    "ind[fx >= 0] = 1\n",
    "ind[fx < 0] = -1\n",
    "mp.plot(x, c=ind, shading={\"point_size\": 0.1,\"width\": 800, \"height\": 800})"
   ]
  },
  {
   "cell_type": "markdown",
   "metadata": {},
   "source": [
    "# Marching to extract surface"
   ]
  },
  {
   "cell_type": "code",
   "execution_count": null,
   "metadata": {
    "scrolled": false
   },
   "outputs": [],
   "source": [
    "# Marcing tet to extract surface\n",
    "\n",
    "sv, sf, _, _ = igl.marching_tets(x, T, fx, 0)\n",
    "mp.plot(sv, sf, shading={\"wireframe\": True})"
   ]
  },
  {
   "cell_type": "code",
   "execution_count": null,
   "metadata": {
    "scrolled": true
   },
   "outputs": [],
   "source": []
  }
 ],
 "metadata": {
  "kernelspec": {
   "display_name": "Python 3",
   "language": "python",
   "name": "python3"
  },
  "language_info": {
   "codemirror_mode": {
    "name": "ipython",
    "version": 3
   },
   "file_extension": ".py",
   "mimetype": "text/x-python",
   "name": "python",
   "nbconvert_exporter": "python",
   "pygments_lexer": "ipython3",
   "version": "3.6.10"
  }
 },
 "nbformat": 4,
 "nbformat_minor": 4
}
